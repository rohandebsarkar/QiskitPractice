{
 "cells": [
  {
   "cell_type": "code",
   "execution_count": 1,
   "id": "f3a148d5",
   "metadata": {},
   "outputs": [],
   "source": [
    "import qiskit"
   ]
  },
  {
   "cell_type": "code",
   "execution_count": 2,
   "id": "875494d3",
   "metadata": {},
   "outputs": [],
   "source": [
    "qreg = qiskit.QuantumRegister(2)\n",
    "creg = qiskit.ClassicalRegister(2)\n",
    "\n",
    "circuit = qiskit.QuantumCircuit(qreg, creg)"
   ]
  },
  {
   "cell_type": "code",
   "execution_count": 3,
   "id": "d4991f37",
   "metadata": {},
   "outputs": [
    {
     "data": {
      "text/html": [
       "<pre style=\"word-wrap: normal;white-space: pre;background: #fff0;line-height: 1.1;font-family: &quot;Courier New&quot;,Courier,monospace\">      \n",
       "q0_0: \n",
       "      \n",
       "q0_1: \n",
       "      \n",
       "c0_0: \n",
       "      \n",
       "c0_1: \n",
       "      </pre>"
      ],
      "text/plain": [
       "      \n",
       "q0_0: \n",
       "      \n",
       "q0_1: \n",
       "      \n",
       "c0_0: \n",
       "      \n",
       "c0_1: \n",
       "      "
      ]
     },
     "execution_count": 3,
     "metadata": {},
     "output_type": "execute_result"
    }
   ],
   "source": [
    "circuit.draw()"
   ]
  },
  {
   "cell_type": "code",
   "execution_count": 4,
   "id": "7b05cbfc",
   "metadata": {},
   "outputs": [
    {
     "data": {
      "text/plain": [
       "<qiskit.circuit.instructionset.InstructionSet at 0x7f3f132f06a0>"
      ]
     },
     "execution_count": 4,
     "metadata": {},
     "output_type": "execute_result"
    }
   ],
   "source": [
    "circuit.x(0)"
   ]
  },
  {
   "cell_type": "code",
   "execution_count": 5,
   "id": "e30bc87f",
   "metadata": {},
   "outputs": [
    {
     "data": {
      "text/html": [
       "<pre style=\"word-wrap: normal;white-space: pre;background: #fff0;line-height: 1.1;font-family: &quot;Courier New&quot;,Courier,monospace\">      ┌───┐\n",
       "q0_0: ┤ X ├\n",
       "      └───┘\n",
       "q0_1: ─────\n",
       "           \n",
       "c0_0: ═════\n",
       "           \n",
       "c0_1: ═════\n",
       "           </pre>"
      ],
      "text/plain": [
       "      ┌───┐\n",
       "q0_0: ┤ X ├\n",
       "      └───┘\n",
       "q0_1: ─────\n",
       "           \n",
       "c0_0: ═════\n",
       "           \n",
       "c0_1: ═════\n",
       "           "
      ]
     },
     "execution_count": 5,
     "metadata": {},
     "output_type": "execute_result"
    }
   ],
   "source": [
    "circuit.draw()"
   ]
  },
  {
   "cell_type": "code",
   "execution_count": 6,
   "id": "9d231230",
   "metadata": {},
   "outputs": [
    {
     "data": {
      "text/html": [
       "<pre style=\"word-wrap: normal;white-space: pre;background: #fff0;line-height: 1.1;font-family: &quot;Courier New&quot;,Courier,monospace\">      ┌───┐          \n",
       "q0_0: ┤ X ├───────■──\n",
       "      ├───┤┌───┐┌─┴─┐\n",
       "q0_1: ┤ H ├┤ H ├┤ X ├\n",
       "      └───┘└───┘└───┘\n",
       "c0_0: ═══════════════\n",
       "                     \n",
       "c0_1: ═══════════════\n",
       "                     </pre>"
      ],
      "text/plain": [
       "      ┌───┐          \n",
       "q0_0: ┤ X ├───────■──\n",
       "      ├───┤┌───┐┌─┴─┐\n",
       "q0_1: ┤ H ├┤ H ├┤ X ├\n",
       "      └───┘└───┘└───┘\n",
       "c0_0: ═══════════════\n",
       "                     \n",
       "c0_1: ═══════════════\n",
       "                     "
      ]
     },
     "execution_count": 6,
     "metadata": {},
     "output_type": "execute_result"
    }
   ],
   "source": [
    "circuit.h(1)\n",
    "circuit.h(1)\n",
    "\n",
    "circuit.cx(0, 1)\n",
    "\n",
    "circuit.draw()"
   ]
  },
  {
   "cell_type": "code",
   "execution_count": 7,
   "id": "013d8606",
   "metadata": {},
   "outputs": [
    {
     "data": {
      "image/png": "[encoded data removed]",
      "text/plain": [
       "<Figure size 556.156x284.278 with 1 Axes>"
      ]
     },
     "execution_count": 7,
     "metadata": {},
     "output_type": "execute_result"
    }
   ],
   "source": [
    "circuit.measure(0, 0)\n",
    "circuit.measure(1, 1)\n",
    "\n",
    "circuit.draw('mpl')"
   ]
  },
  {
   "cell_type": "code",
   "execution_count": 8,
   "id": "dc44e5be",
   "metadata": {},
   "outputs": [],
   "source": [
    "simulator = qiskit.Aer.get_backend('qasm_simulator')"
   ]
  },
  {
   "cell_type": "code",
   "execution_count": 9,
   "id": "bcd9c497",
   "metadata": {},
   "outputs": [],
   "source": [
    "job = qiskit.execute(circuit, simulator, shots=1024)"
   ]
  },
  {
   "cell_type": "code",
   "execution_count": 10,
   "id": "6a685efa",
   "metadata": {},
   "outputs": [
    {
     "data": {
      "image/png": "[encoded data removed]",
      "text/plain": [
       "<Figure size 700x500 with 1 Axes>"
      ]
     },
     "execution_count": 10,
     "metadata": {},
     "output_type": "execute_result"
    }
   ],
   "source": [
    "qiskit.visualization.plot_histogram(job.result().get_counts(), color='red')"
   ]
  },
  {
   "cell_type": "code",
   "execution_count": 11,
   "id": "07fb8a15",
   "metadata": {},
   "outputs": [
    {
     "data": {
      "image/png": "[encoded data removed]",
      "text/plain": [
       "<Figure size 203.885x200.667 with 1 Axes>"
      ]
     },
     "execution_count": 11,
     "metadata": {},
     "output_type": "execute_result"
    }
   ],
   "source": [
    "qreg = qiskit.QuantumRegister(1)\n",
    "creg = qiskit.ClassicalRegister(1)\n",
    "\n",
    "circuit = qiskit.QuantumCircuit(qreg, creg)\n",
    "\n",
    "circuit.x(0)\n",
    "\n",
    "circuit.draw('mpl')"
   ]
  },
  {
   "cell_type": "code",
   "execution_count": 12,
   "id": "4a46dbb0",
   "metadata": {
    "scrolled": true
   },
   "outputs": [
    {
     "name": "stdout",
     "output_type": "stream",
     "text": [
      "Statevector([0.+0.j, 1.+0.j],\n",
      "            dims=(2,))\n"
     ]
    }
   ],
   "source": [
    "qiskit.quantum_info.Statevector.from_instruction(circuit)"
   ]
  },
  {
   "cell_type": "code",
   "execution_count": 13,
   "id": "01a3ca09",
   "metadata": {},
   "outputs": [
    {
     "data": {
      "image/png": "[encoded data removed]",
      "text/plain": [
       "<Figure size 221.914x284.278 with 1 Axes>"
      ]
     },
     "execution_count": 13,
     "metadata": {},
     "output_type": "execute_result"
    }
   ],
   "source": [
    "qreg = qiskit.QuantumRegister(2)\n",
    "creg = qiskit.ClassicalRegister(2)\n",
    "\n",
    "circuit = qiskit.QuantumCircuit(qreg, creg)\n",
    "\n",
    "circuit.x(0)\n",
    "\n",
    "circuit.draw('mpl')"
   ]
  },
  {
   "cell_type": "code",
   "execution_count": 14,
   "id": "eca78e56",
   "metadata": {},
   "outputs": [
    {
     "name": "stdout",
     "output_type": "stream",
     "text": [
      "Statevector([0.+0.j, 1.+0.j, 0.+0.j, 0.+0.j],\n",
      "            dims=(2, 2))\n"
     ]
    }
   ],
   "source": [
    "qiskit.quantum_info.Statevector.from_instruction(circuit)"
   ]
  }
 ],
 "metadata": {
  "kernelspec": {
   "display_name": "Python 3 (ipykernel)",
   "language": "python",
   "name": "python3"
  },
  "language_info": {
   "codemirror_mode": {
    "name": "ipython",
    "version": 3
   },
   "file_extension": ".py",
   "mimetype": "text/x-python",
   "name": "python",
   "nbconvert_exporter": "python",
   "pygments_lexer": "ipython3",
   "version": "3.10.8"
  }
 },
 "nbformat": 4,
 "nbformat_minor": 5
}
